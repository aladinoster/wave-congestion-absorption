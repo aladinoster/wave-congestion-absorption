{
 "cells": [
  {
   "cell_type": "markdown",
   "metadata": {},
   "source": [
    "# XML File Creation\n",
    "\n",
    "This notebook describe conditions for generation of ring road scenarios "
   ]
  },
  {
   "cell_type": "code",
   "execution_count": 1,
   "metadata": {},
   "outputs": [],
   "source": [
    "%load_ext autoreload\n",
    "%autoreload 2"
   ]
  },
  {
   "cell_type": "code",
   "execution_count": 7,
   "metadata": {},
   "outputs": [],
   "source": [
    "import numpy as np "
   ]
  },
  {
   "cell_type": "markdown",
   "metadata": {},
   "source": [
    "Traffic parameters"
   ]
  },
  {
   "cell_type": "code",
   "execution_count": 4,
   "metadata": {},
   "outputs": [
    {
     "name": "stdout",
     "output_type": "stream",
     "text": [
      "k_x: 0.12\n"
     ]
    }
   ],
   "source": [
    "C = 0.5 # veh/h\n",
    "u = 25 # m/s \n",
    "w = 5 # m/s \n",
    "k_x = C * (u + w) / (u * w)\n",
    "print(f\"k_x: {k_x}\")"
   ]
  },
  {
   "cell_type": "code",
   "execution_count": 12,
   "metadata": {},
   "outputs": [
    {
     "name": "stdout",
     "output_type": "stream",
     "text": [
      "R: 66.31455962162306\n",
      "Circle length: 416.6666666666667\n"
     ]
    }
   ],
   "source": [
    "N = 50\n",
    "R = N / (k_x * np.pi * 2)\n",
    "print(f\"R: {R}\")\n",
    "print(f\"Circle length: {2 * np.pi * R}\")"
   ]
  },
  {
   "cell_type": "code",
   "execution_count": 113,
   "metadata": {},
   "outputs": [],
   "source": [
    "from ringtools import extract_points, create_internal_points, create_xml_data, create_xml_simulation, create_xml_random"
   ]
  },
  {
   "cell_type": "code",
   "execution_count": 114,
   "metadata": {},
   "outputs": [],
   "source": [
    "x1 = create_xml_simulation()\n",
    "x2 = create_xml_random()\n",
    "\n",
    "x1.write('demo1.xml',pretty_print=True,encoding='UTF8')\n",
    "x2.write('demo2.xml',pretty_print=True,encoding='UTF8')\n"
   ]
  },
  {
   "cell_type": "code",
   "execution_count": 22,
   "metadata": {},
   "outputs": [
    {
     "name": "stdout",
     "output_type": "stream",
     "text": [
      "Creating XML internal points\n",
      "center at: [  0. 100.]\n"
     ]
    }
   ],
   "source": [
    "print(\"Creating XML internal points\")\n",
    "points = extract_points(\"ring_200.xml\")\n",
    "#     center = points[0][0], points[1][1]\n",
    "center = np.add.reduce(points)/4\n",
    "print(f\"center at: {center}\")\n",
    "int_points = create_internal_points(points, center, n_points = 18, k=4)\n",
    "xml_files = []\n",
    "for i, int_point_seg in enumerate(int_points):\n",
    "    xml_files = create_xml_data(int_point_seg)\n",
    "#     xml_files.write(f\"filename_{i}.xml\", pretty_print=True)"
   ]
  },
  {
   "cell_type": "code",
   "execution_count": null,
   "metadata": {},
   "outputs": [],
   "source": []
  }
 ],
 "metadata": {
  "kernelspec": {
   "display_name": "Python 3",
   "language": "python",
   "name": "python3"
  },
  "language_info": {
   "codemirror_mode": {
    "name": "ipython",
    "version": 3
   },
   "file_extension": ".py",
   "mimetype": "text/x-python",
   "name": "python",
   "nbconvert_exporter": "python",
   "pygments_lexer": "ipython3",
   "version": "3.7.3"
  }
 },
 "nbformat": 4,
 "nbformat_minor": 2
}
