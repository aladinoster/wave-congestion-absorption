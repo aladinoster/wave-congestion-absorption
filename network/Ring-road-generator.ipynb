{
 "cells": [
  {
   "cell_type": "markdown",
   "metadata": {},
   "source": [
    "# XML File Creation\n",
    "\n",
    "This notebook describe conditions for generation of ring road scenarios "
   ]
  },
  {
   "cell_type": "code",
   "execution_count": 331,
   "metadata": {},
   "outputs": [
    {
     "name": "stdout",
     "output_type": "stream",
     "text": [
      "The autoreload extension is already loaded. To reload it, use:\n",
      "  %reload_ext autoreload\n"
     ]
    }
   ],
   "source": [
    "%load_ext autoreload\n",
    "%autoreload 2"
   ]
  },
  {
   "cell_type": "code",
   "execution_count": 332,
   "metadata": {},
   "outputs": [],
   "source": [
    "import numpy as np "
   ]
  },
  {
   "cell_type": "markdown",
   "metadata": {},
   "source": [
    "Traffic parameters"
   ]
  },
  {
   "cell_type": "code",
   "execution_count": 333,
   "metadata": {},
   "outputs": [
    {
     "name": "stdout",
     "output_type": "stream",
     "text": [
      "kx: 0.12\n",
      "kc: 0.02\n"
     ]
    }
   ],
   "source": [
    "C = 0.5 # veh/h\n",
    "u = 25 # m/s \n",
    "w = 5 # m/s \n",
    "k_x = C * (u + w) / (u * w)\n",
    "k_c = C/u\n",
    "print(f\"kx: {k_x}\")\n",
    "print(f\"kc: {k_c}\")"
   ]
  },
  {
   "cell_type": "code",
   "execution_count": 334,
   "metadata": {},
   "outputs": [
    {
     "name": "stdout",
     "output_type": "stream",
     "text": [
      "R: 397.8873577297383\n",
      "Circle length: 2499.9999999999995\n"
     ]
    }
   ],
   "source": [
    "N = 48\n",
    "R = (N+2) / (k_c * np.pi * 2)\n",
    "print(f\"R: {R}\")\n",
    "print(f\"Circle length: {2 * np.pi * R}\")"
   ]
  },
  {
   "cell_type": "code",
   "execution_count": 336,
   "metadata": {},
   "outputs": [
    {
     "name": "stdout",
     "output_type": "stream",
     "text": [
      "Creating XML internal points\n",
      "R: 397.8873577297383\n",
      "Circle length: 2499.9999999999995\n"
     ]
    }
   ],
   "source": [
    "%run ring_generator.py 48"
   ]
  },
  {
   "cell_type": "code",
   "execution_count": 342,
   "metadata": {},
   "outputs": [
    {
     "data": {
      "text/plain": [
       "<Element ROOT_SYMUBRUIT at 0xa20bd31c8>"
      ]
     },
     "execution_count": 342,
     "metadata": {},
     "output_type": "execute_result"
    }
   ],
   "source": [
    "class XMLGenerator(object):\n",
    "    \"\"\" A class to handle XML generator for SymuVia\n",
    "    \n",
    "    \"\"\"\n",
    "    xmlns = \"http://www.w3.org/2001/XMLSchema-instance\"\n",
    "    namespace = \"noNamespaceSchemaLocation\"\n",
    "    nsmap = {\"xsi\":xmlns}\n",
    "    def __init__(self,path_xsd:str=\"\"):\n",
    "        attr_qname = ET.QName(self.xmlns, self.namespace)        \n",
    "        self.root = ET.Element(\"ROOT_SYMUBRUIT\", {attr_qname: \"reseau.xsd\"}, version=\"2.05\", nsmap=self.nsmap)\n",
    "a = XMLGenerator(\"\")"
   ]
  },
  {
   "cell_type": "markdown",
   "metadata": {},
   "source": [
    "# Creating a graphml structure"
   ]
  },
  {
   "cell_type": "code",
   "execution_count": 2,
   "metadata": {},
   "outputs": [
    {
     "data": {
      "image/png": "[encoded data removed]",
      "text/plain": [
       "<Figure size 432x288 with 2 Axes>"
      ]
     },
     "metadata": {
      "needs_background": "light"
     },
     "output_type": "display_data"
    }
   ],
   "source": [
    "# %load https://networkx.github.io/documentation/stable/_downloads/ce2990bb6ab2556d9fce64416819d6c8/plot_directed.py\n",
    "#! /usr/bin/env python\n",
    "\"\"\"\n",
    "==============\n",
    "Directed Graph\n",
    "==============\n",
    "\n",
    "Draw a graph with directed edges using a colormap and different node sizes.\n",
    "\n",
    "Edges have different colors and alphas (opacity). Drawn using matplotlib.\n",
    "\"\"\"\n",
    "# Author: Rodrigo Dorantes-Gilardi (rodgdor@gmail.com)\n",
    "\n",
    "from __future__ import division\n",
    "import matplotlib as mpl\n",
    "import matplotlib.pyplot as plt\n",
    "import networkx as nx\n",
    "%matplotlib inline\n",
    "\n",
    "G = nx.generators.directed.random_k_out_graph(10, 3, 0.5)\n",
    "pos = nx.layout.spring_layout(G)\n",
    "\n",
    "node_sizes = [3 + 10 * i for i in range(len(G))]\n",
    "M = G.number_of_edges()\n",
    "edge_colors = range(2, M + 2)\n",
    "edge_alphas = [(5 + i) / (M + 4) for i in range(M)]\n",
    "\n",
    "nodes = nx.draw_networkx_nodes(G, pos, node_size=node_sizes, node_color='blue')\n",
    "edges = nx.draw_networkx_edges(G, pos, node_size=node_sizes, arrowstyle='->',\n",
    "                               arrowsize=10, edge_color=edge_colors,\n",
    "                               edge_cmap=plt.cm.Blues, width=2)\n",
    "# set alpha value for each edge\n",
    "for i in range(M):\n",
    "    edges[i].set_alpha(edge_alphas[i])\n",
    "\n",
    "pc = mpl.collections.PatchCollection(edges, cmap=plt.cm.Blues)\n",
    "pc.set_array(edge_colors)\n",
    "plt.colorbar(pc)\n",
    "\n",
    "ax = plt.gca()\n",
    "ax.set_axis_off()\n",
    "# plt.show()\n"
   ]
  },
  {
   "cell_type": "code",
   "execution_count": 45,
   "metadata": {},
   "outputs": [
    {
     "data": {
      "text/plain": [
       "1.0"
      ]
     },
     "execution_count": 45,
     "metadata": {},
     "output_type": "execute_result"
    }
   ],
   "source": [
    ">>> G = nx.path_graph(3)\n",
    ">>> bb = nx.betweenness_centrality(G)\n",
    ">>> isinstance(bb, dict)\n",
    "True\n",
    ">>> nx.set_node_attributes(G, bb, 'betweenness')\n",
    ">>> G.nodes[1]['betweenness']\n",
    "1.0\n"
   ]
  },
  {
   "cell_type": "code",
   "execution_count": 46,
   "metadata": {},
   "outputs": [
    {
     "data": {
      "text/plain": [
       "['foo']"
      ]
     },
     "execution_count": 46,
     "metadata": {},
     "output_type": "execute_result"
    }
   ],
   "source": [
    ">>> G = nx.path_graph(3)\n",
    ">>> labels = []\n",
    ">>> nx.set_node_attributes(G, labels, 'labels')\n",
    ">>> labels.append('foo')\n",
    ">>> G.nodes[0]['labels']\n",
    "['foo']\n",
    ">>> G.nodes[1]['labels']\n",
    "['foo']\n",
    ">>> G.nodes[2]['labels']\n",
    "['foo']"
   ]
  },
  {
   "cell_type": "code",
   "execution_count": 47,
   "metadata": {},
   "outputs": [
    {
     "data": {
      "text/plain": [
       "{}"
      ]
     },
     "execution_count": 47,
     "metadata": {},
     "output_type": "execute_result"
    }
   ],
   "source": [
    ">>> G = nx.path_graph(3)\n",
    ">>> attrs = {0: {'attr1': 20, 'attr2': 'nothing'}, 1: {'attr2': 3}}\n",
    ">>> nx.set_node_attributes(G, attrs)\n",
    ">>> G.nodes[0]['attr1']\n",
    "20\n",
    ">>> G.nodes[0]['attr2']\n",
    "'nothing'\n",
    ">>> G.nodes[1]['attr2']\n",
    "3\n",
    ">>> G.nodes[2]\n",
    "{}"
   ]
  },
  {
   "cell_type": "code",
   "execution_count": 4,
   "metadata": {},
   "outputs": [
    {
     "data": {
      "image/png": "[encoded data removed]",
      "text/plain": [
       "<Figure size 432x288 with 1 Axes>"
      ]
     },
     "metadata": {},
     "output_type": "display_data"
    }
   ],
   "source": [
    "G = nx.DiGraph()\n",
    "G.add_edges_from(\n",
    "    [('A', 'B'), ('A', 'C'), ('D', 'B'), ('E', 'C'), ('E', 'F'),\n",
    "     ('B', 'H'), ('B', 'G'), ('B', 'F'), ('C', 'G')])\n",
    "\n",
    "val_map = {'A': 1.0,\n",
    "           'D': 0.5714285714285714,\n",
    "           'H': 0.0}\n",
    "\n",
    "values = [val_map.get(node, 0.25) for node in G.nodes()]\n",
    "\n",
    "# Specify the edges you want here\n",
    "red_edges = [('A', 'C'), ('E', 'C')]\n",
    "edge_colours = ['black' if not edge in red_edges else 'red'\n",
    "                for edge in G.edges()]\n",
    "black_edges = [edge for edge in G.edges() if edge not in red_edges]\n",
    "\n",
    "# Need to create a layout when doing\n",
    "# separate calls to draw nodes and edges\n",
    "pos = nx.spring_layout(G)\n",
    "nx.draw_networkx_nodes(G, pos, cmap=plt.get_cmap('jet'), \n",
    "                       node_color = values, node_size = 500)\n",
    "nx.draw_networkx_labels(G, pos)\n",
    "nx.draw_networkx_edges(G, pos, edgelist=red_edges, edge_color='r', arrows=True)\n",
    "nx.draw_networkx_edges(G, pos, edgelist=black_edges, arrows=True)\n",
    "plt.show()"
   ]
  },
  {
   "cell_type": "code",
   "execution_count": null,
   "metadata": {},
   "outputs": [],
   "source": []
  }
 ],
 "metadata": {
  "kernelspec": {
   "display_name": "Python 3",
   "language": "python",
   "name": "python3"
  },
  "language_info": {
   "codemirror_mode": {
    "name": "ipython",
    "version": 3
   },
   "file_extension": ".py",
   "mimetype": "text/x-python",
   "name": "python",
   "nbconvert_exporter": "python",
   "pygments_lexer": "ipython3",
   "version": "3.7.3"
  }
 },
 "nbformat": 4,
 "nbformat_minor": 2
}
