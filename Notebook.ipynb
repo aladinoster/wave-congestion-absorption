{
 "cells": [
  {
   "cell_type": "markdown",
   "metadata": {},
   "source": [
    "# Scenario generation \n",
    "\n",
    "The script `ring_generator.py` will generate `XML` files for SymuVia based on a specified number of vehicles. "
   ]
  },
  {
   "cell_type": "markdown",
   "metadata": {},
   "source": [
    "## Big case \n",
    "\n",
    "In this case `48` *HDV* + `2` *CAV* vehicles will fill the circle"
   ]
  },
  {
   "cell_type": "code",
   "execution_count": 1,
   "metadata": {},
   "outputs": [
    {
     "name": "stdout",
     "output_type": "stream",
     "text": [
      "Creating XML internal points\n",
      "Scenario:(('HDV', 24), ('CAV', 1), ('HDV', 24), ('CAV', 1), ('NOVEH', 1))\n",
      "R: 397.8873577297383\n",
      "Circle length: 2499.9999999999995\n",
      "File created at: network/ring_48_cav.xml\n"
     ]
    }
   ],
   "source": [
    "%run network/ring_generator.py 48 \"network\""
   ]
  },
  {
   "cell_type": "code",
   "execution_count": 6,
   "metadata": {},
   "outputs": [
    {
     "name": "stdout",
     "output_type": "stream",
     "text": [
      "Creating XML internal points\n",
      "Scenario:(('HDV', 9), ('CAV', 1), ('HDV', 9), ('CAV', 1), ('NOVEH', 1))\n",
      "R: 159.15494309189535\n",
      "Circle length: 1000.0\n",
      "File created at: network/ring_18_cav.xml\n"
     ]
    }
   ],
   "source": [
    "%run network/ring_generator.py 18 \"network\""
   ]
  },
  {
   "cell_type": "markdown",
   "metadata": {},
   "source": [
    "# Simulations"
   ]
  },
  {
   "cell_type": "code",
   "execution_count": 1,
   "metadata": {},
   "outputs": [
    {
     "name": "stdout",
     "output_type": "stream",
     "text": [
      "Successful import of symupy\n"
     ]
    }
   ],
   "source": [
    "import os\n",
    "from symupy.api import Simulation, Simulator"
   ]
  },
  {
   "cell_type": "code",
   "execution_count": 2,
   "metadata": {},
   "outputs": [
    {
     "data": {
      "text/plain": [
       "Simulator(/Users/ladino/Documents/03-Code/02-Python/libraries/symupy/lib/osx-64/libSymuVia.dylib)"
      ]
     },
     "execution_count": 2,
     "metadata": {},
     "output_type": "execute_result"
    }
   ],
   "source": [
    "filename_path = os.path.join(os.getcwd(),\"network/ring_48_cav.xml\")\n",
    "sim_path = \"/Users/ladino/Documents/03-Code/02-Python/libraries/symupy/lib/osx-64/libSymuVia.dylib\"\n",
    "sim_instance = Simulator.from_path(filename_path, sim_path)\n",
    "sim_instance"
   ]
  },
  {
   "cell_type": "code",
   "execution_count": 4,
   "metadata": {},
   "outputs": [
    {
     "name": "stdout",
     "output_type": "stream",
     "text": [
      "Step: None\n",
      "Step: 0\n",
      "Step: 1\n",
      "Step: 2\n",
      "Step: 3\n",
      "Step: 4\n",
      "Step: 5\n",
      "Step: 6\n",
      "Step: 7\n",
      "Step: 8\n",
      "Step: 9\n",
      "Step: 10\n",
      "Step: 11\n",
      "Step: 12\n",
      "Step: 13\n",
      "Step: 14\n",
      "Step: 15\n",
      "Step: 16\n",
      "Step: 17\n",
      "Step: 18\n",
      "Step: 19\n",
      "Step: 20\n",
      "Step: 21\n",
      "Step: 22\n",
      "Step: 23\n",
      "Step: 24\n",
      "Step: 25\n",
      "Step: 26\n",
      "Step: 27\n",
      "Step: 28\n",
      "Step: 29\n",
      "Step: 30\n",
      "Step: 31\n",
      "Step: 32\n",
      "Step: 33\n",
      "Step: 34\n",
      "Step: 35\n",
      "Step: 36\n",
      "Step: 37\n",
      "Step: 38\n",
      "Step: 39\n",
      "Step: 40\n",
      "Step: 41\n",
      "Step: 42\n",
      "Step: 43\n",
      "Step: 44\n",
      "Step: 45\n",
      "Step: 46\n",
      "Step: 47\n",
      "Step: 48\n",
      "Current Vehicles:\n",
      "abscisa:-1175.0, acceleration:0.0, distance:75.0, vehid:0, ordinate:0.0, link:Zone_A, vehtype:HDV, speed:25.0, lane:1, elevation:0.0, dynamic:VehicleDynamic(time_step = 1.0, veh_dyn =dynamic_2nd_ego), itinerary:[]\n",
      "abscisa:-1225.0, acceleration:0.0, distance:25.0, vehid:1, ordinate:0.0, link:Zone_A, vehtype:HDV, speed:25.0, lane:1, elevation:0.0, dynamic:VehicleDynamic(time_step = 1.0, veh_dyn =dynamic_2nd_ego), itinerary:[]\n"
     ]
    }
   ],
   "source": [
    "with sim_instance as s:\n",
    "    while s.do_next:\n",
    "        s.run_step()\n",
    "        if s.state.current_time == \"5.00\":\n",
    "            print(s.state.vehicles)\n",
    "            s.stop_step()"
   ]
  },
  {
   "cell_type": "markdown",
   "metadata": {},
   "source": [
    "Created by: Andres Ladino"
   ]
  }
 ],
 "metadata": {
  "kernelspec": {
   "display_name": "Python 3",
   "language": "python",
   "name": "python3"
  },
  "language_info": {
   "codemirror_mode": {
    "name": "ipython",
    "version": 3
   },
   "file_extension": ".py",
   "mimetype": "text/x-python",
   "name": "python",
   "nbconvert_exporter": "python",
   "pygments_lexer": "ipython3",
   "version": "3.7.3"
  }
 },
 "nbformat": 4,
 "nbformat_minor": 4
}
